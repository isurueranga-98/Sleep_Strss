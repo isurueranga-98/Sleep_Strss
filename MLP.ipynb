{
 "cells": [
  {
   "cell_type": "code",
   "execution_count": 1,
   "metadata": {},
   "outputs": [],
   "source": [
    "import pandas as pd\n",
    "import matplotlib.pyplot as plt\n",
    "from sklearn.model_selection import train_test_split\n",
    "from sklearn import preprocessing\n",
    "\n",
    "\n",
    "#loading the data set\n",
    "df = pd.read_csv(\"Sleep_health_and_lifestyle_dataset.csv\")\n",
    "\n",
    "#filling missing values in sleep disorder feature\n",
    "df['Sleep Disorder'] = df['Sleep Disorder'].fillna('None')\n",
    "\n",
    "#dividing dependand and independant variayables \n",
    "y = df['Stress Level']\n",
    "X = df.drop(\"Stress Level\", axis=1)\n",
    "\n",
    "#dividing uper and lover blood presure in independant variyable\n",
    "X[['Upper Blood Pressure', 'Lower Blood Pressure']] = X[\"Blood Pressure\"].apply(lambda x: pd.Series(str(x).split(\"/\")))\n",
    "X = X.drop(columns=(['Blood Pressure', 'Person ID']), axis=1)\n",
    "\n",
    "#one hot encording in independant variyable\n",
    "X = pd.get_dummies(X, columns=['Gender', 'Occupation', 'BMI Category', 'Sleep Disorder'], dtype=int)\n",
    "\n",
    "#One HOT encording in dependant variyable\n",
    "y = pd.get_dummies(y, dtype=int)\n",
    "\n",
    "#spliting data set in to train and test data \n",
    "x_train, x_test, y_train, y_test = train_test_split(X, y, test_size=0.30, random_state=42)\n",
    "scaler = preprocessing.StandardScaler().fit(x_train)\n",
    "\n",
    "#scaling x data \n",
    "x_train = scaler.transform(x_train)\n",
    "x_test = scaler.transform(x_test)"
   ]
  },
  {
   "cell_type": "code",
   "execution_count": 2,
   "metadata": {},
   "outputs": [],
   "source": [
    "# Renaka Gamage\n",
    "\n",
    "from sklearn.preprocessing import OneHotEncoder\n",
    "from sklearn.compose import make_column_transformer\n",
    "from sklearn.pipeline import make_pipeline\n",
    "from sklearn.neural_network import MLPClassifier\n",
    "from sklearn import datasets\n",
    "from sklearn.model_selection import train_test_split\n",
    "from sklearn import preprocessing\n",
    "\n",
    "\n",
    "\n",
    "mlp = MLPClassifier(hidden_layer_sizes=(100, 60), max_iter=10000)\n",
    "\n",
    "\n",
    "model = mlp.fit(x_train, y_train)"
   ]
  },
  {
   "cell_type": "code",
   "execution_count": 3,
   "metadata": {},
   "outputs": [
    {
     "data": {
      "text/plain": [
       "[<matplotlib.lines.Line2D at 0x21ef16ad000>]"
      ]
     },
     "execution_count": 3,
     "metadata": {},
     "output_type": "execute_result"
    },
    {
     "data": {
      "image/png": "[encoded data removed]",
      "text/plain": [
       "<Figure size 640x480 with 1 Axes>"
      ]
     },
     "metadata": {},
     "output_type": "display_data"
    }
   ],
   "source": [
    "plt.plot(mlp.loss_curve_)"
   ]
  },
  {
   "cell_type": "code",
   "execution_count": 4,
   "metadata": {},
   "outputs": [
    {
     "name": "stdout",
     "output_type": "stream",
     "text": [
      "Acuracy 0.9646017699115044\n",
      "Precision_score 0.9823008849557522\n",
      "Recall_score 0.9646017699115044\n",
      "F1 Score 0.9731760078662735\n"
     ]
    }
   ],
   "source": [
    "from sklearn import metrics\n",
    "from sklearn.metrics import accuracy_score, precision_score, recall_score, f1_score\n",
    "y_pred = model.predict(x_test)\n",
    "\n",
    "\n",
    "print(\"Acuracy\", accuracy_score(y_test, y_pred))\n",
    "print(\"Precision_score\", precision_score(y_test, y_pred, average='weighted'))\n",
    "print(\"Recall_score\", recall_score(y_test, y_pred, average='weighted'))\n",
    "print(\"F1 Score\", f1_score(y_test, y_pred, average='weighted'))\n"
   ]
  },
  {
   "cell_type": "code",
   "execution_count": null,
   "metadata": {},
   "outputs": [],
   "source": []
  }
 ],
 "metadata": {
  "kernelspec": {
   "display_name": "test",
   "language": "python",
   "name": "python3"
  },
  "language_info": {
   "codemirror_mode": {
    "name": "ipython",
    "version": 3
   },
   "file_extension": ".py",
   "mimetype": "text/x-python",
   "name": "python",
   "nbconvert_exporter": "python",
   "pygments_lexer": "ipython3",
   "version": "3.10.11"
  },
  "orig_nbformat": 4
 },
 "nbformat": 4,
 "nbformat_minor": 2
}
